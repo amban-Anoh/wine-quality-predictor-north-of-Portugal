{
 "cells": [
  {
   "cell_type": "markdown",
   "id": "ef11cdd5-bba3-4e0a-9647-560b7544193a",
   "metadata": {},
   "source": [
    "# Wine Quality Prediction Using Linear Regression in SageMaker Studio Lab\n",
    "\n",
    "This notebook demonstrates two approaches to training a linear regression model using the Wine Quality dataset:\n",
    "\n",
    "**Part 2a - Without container technology: Training in a standard Jupyter environment.\n",
    "\n",
    "**Part 2b – With container technology: Using Docker in SageMaker Studio Lab.\n"
   ]
  },
  {
   "cell_type": "markdown",
   "id": "95c10d52-13c4-42c7-8c4f-6699c1f97819",
   "metadata": {},
   "source": [
    "Import Libraries and Load the Dataset"
   ]
  },
  {
   "cell_type": "code",
   "execution_count": 10,
   "id": "13938d19-248a-4bf4-8855-d64fb6d1fc85",
   "metadata": {
    "execution": {
     "iopub.execute_input": "2025-05-25T19:48:51.436155Z",
     "iopub.status.busy": "2025-05-25T19:48:51.435867Z",
     "iopub.status.idle": "2025-05-25T19:48:51.456904Z",
     "shell.execute_reply": "2025-05-25T19:48:51.456132Z",
     "shell.execute_reply.started": "2025-05-25T19:48:51.436134Z"
    }
   },
   "outputs": [
    {
     "name": "stdout",
     "output_type": "stream",
     "text": [
      "   fixed acidity  volatile acidity  citric acid  residual sugar  chlorides  \\\n",
      "0            7.4              0.70         0.00             1.9      0.076   \n",
      "1            7.8              0.88         0.00             2.6      0.098   \n",
      "2            7.8              0.76         0.04             2.3      0.092   \n",
      "3           11.2              0.28         0.56             1.9      0.075   \n",
      "4            7.4              0.70         0.00             1.9      0.076   \n",
      "\n",
      "   free sulfur dioxide  total sulfur dioxide  density    pH  sulphates  \\\n",
      "0                 11.0                  34.0   0.9978  3.51       0.56   \n",
      "1                 25.0                  67.0   0.9968  3.20       0.68   \n",
      "2                 15.0                  54.0   0.9970  3.26       0.65   \n",
      "3                 17.0                  60.0   0.9980  3.16       0.58   \n",
      "4                 11.0                  34.0   0.9978  3.51       0.56   \n",
      "\n",
      "   alcohol  quality  wine_type  \n",
      "0      9.4        5          0  \n",
      "1      9.8        5          0  \n",
      "2      9.8        5          0  \n",
      "3      9.8        6          0  \n",
      "4      9.4        5          0  \n",
      "Dataset shape: (6497, 13)\n"
     ]
    }
   ],
   "source": [
    "# 1. Import Libraries\n",
    "import pandas as pd\n",
    "import numpy as np\n",
    "from sklearn.linear_model import LinearRegression\n",
    "from sklearn.model_selection import train_test_split\n",
    "from sklearn.metrics import mean_squared_error, r2_score\n",
    "import matplotlib.pyplot as plt\n",
    "from sklearn.model_selection import train_test_split\n",
    "from sklearn.metrics import mean_squared_error, r2_score\n",
    "\n",
    "\n",
    "\n",
    "# 2. Load the Dataset\n",
    "# Load the combined wine dataset\n",
    "df = pd.read_csv(\"winequality_combined.csv\")\n",
    "print(df.head())\n",
    "print(\"Dataset shape:\", df.shape)"
   ]
  },
  {
   "cell_type": "markdown",
   "id": "1e1c8b96-d1f5-454b-9b35-d14e918764e4",
   "metadata": {},
   "source": [
    "Explore and Preprocess the Data"
   ]
  },
  {
   "cell_type": "code",
   "execution_count": 11,
   "id": "f6f42497-7a63-4c47-a3a7-8aefefc38367",
   "metadata": {
    "execution": {
     "iopub.execute_input": "2025-05-25T19:49:01.620387Z",
     "iopub.status.busy": "2025-05-25T19:49:01.619862Z",
     "iopub.status.idle": "2025-05-25T19:49:01.635296Z",
     "shell.execute_reply": "2025-05-25T19:49:01.634318Z",
     "shell.execute_reply.started": "2025-05-25T19:49:01.620360Z"
    }
   },
   "outputs": [
    {
     "name": "stdout",
     "output_type": "stream",
     "text": [
      "<class 'pandas.core.frame.DataFrame'>\n",
      "RangeIndex: 6497 entries, 0 to 6496\n",
      "Data columns (total 13 columns):\n",
      " #   Column                Non-Null Count  Dtype  \n",
      "---  ------                --------------  -----  \n",
      " 0   fixed acidity         6497 non-null   float64\n",
      " 1   volatile acidity      6497 non-null   float64\n",
      " 2   citric acid           6497 non-null   float64\n",
      " 3   residual sugar        6497 non-null   float64\n",
      " 4   chlorides             6497 non-null   float64\n",
      " 5   free sulfur dioxide   6497 non-null   float64\n",
      " 6   total sulfur dioxide  6497 non-null   float64\n",
      " 7   density               6497 non-null   float64\n",
      " 8   pH                    6497 non-null   float64\n",
      " 9   sulphates             6497 non-null   float64\n",
      " 10  alcohol               6497 non-null   float64\n",
      " 11  quality               6497 non-null   int64  \n",
      " 12  wine_type             6497 non-null   int64  \n",
      "dtypes: float64(11), int64(2)\n",
      "memory usage: 660.0 KB\n",
      "None\n",
      "fixed acidity           0\n",
      "volatile acidity        0\n",
      "citric acid             0\n",
      "residual sugar          0\n",
      "chlorides               0\n",
      "free sulfur dioxide     0\n",
      "total sulfur dioxide    0\n",
      "density                 0\n",
      "pH                      0\n",
      "sulphates               0\n",
      "alcohol                 0\n",
      "quality                 0\n",
      "wine_type               0\n",
      "dtype: int64\n"
     ]
    }
   ],
   "source": [
    "# Check data types and for missing values\n",
    "print(df.info())         \n",
    "print(df.isnull().sum()) \n",
    "\n",
    "# If there's a 'type' column (e.g., red/white), convert it to numeric for modeling\n",
    "if 'type' in df.columns:\n",
    "    print(\"Unique values in 'type':\", df['type'].unique())\n",
    "    # Map wine type to numeric (e.g., red=0, white=1)\n",
    "    df['type'] = df['type'].map({'red': 0, 'white': 1})\n",
    "    print(\"After encoding 'type':\", df['type'].unique())\n"
   ]
  },
  {
   "cell_type": "markdown",
   "id": "c11d31a2-8277-4e4e-b648-4602d031dff0",
   "metadata": {},
   "source": [
    "Define Feature Matrix X and Target y, then Split Data"
   ]
  },
  {
   "cell_type": "code",
   "execution_count": 12,
   "id": "f06b1d3b-777e-4a2e-ab9e-8aee9d75e8c1",
   "metadata": {
    "execution": {
     "iopub.execute_input": "2025-05-25T19:49:08.169305Z",
     "iopub.status.busy": "2025-05-25T19:49:08.168673Z",
     "iopub.status.idle": "2025-05-25T19:49:08.179617Z",
     "shell.execute_reply": "2025-05-25T19:49:08.178831Z",
     "shell.execute_reply.started": "2025-05-25T19:49:08.169277Z"
    }
   },
   "outputs": [
    {
     "name": "stdout",
     "output_type": "stream",
     "text": [
      "Training set size: 5197 samples\n",
      "Test set size: 1300 samples\n"
     ]
    }
   ],
   "source": [
    "# Separate features (X) and target (y)\n",
    "X = df.drop('quality', axis=1)  # all columns except 'quality'\n",
    "y = df['quality']              # the target column\n",
    "\n",
    "# Split into training and testing sets (80% train, 20% test)\n",
    "X_train, X_test, y_train, y_test = train_test_split(\n",
    "    X, y, test_size=0.2, random_state=42)\n",
    "\n",
    "# Print the sizes of the splits\n",
    "print(\"Training set size:\", X_train.shape[0], \"samples\")\n",
    "print(\"Test set size:\", X_test.shape[0], \"samples\")\n"
   ]
  },
  {
   "cell_type": "markdown",
   "id": "40d70981-57c7-4d14-8bc4-f254288d842a",
   "metadata": {},
   "source": [
    "Train a Linear Regression Model\n",
    "Training data is ready, we can now create and train the linear regression model using scikit-learn’s LinearRegression class:"
   ]
  },
  {
   "cell_type": "code",
   "execution_count": 13,
   "id": "12cc42fb-0408-4f3b-9beb-e0e6f6e0583c",
   "metadata": {
    "execution": {
     "iopub.execute_input": "2025-05-25T19:49:16.742580Z",
     "iopub.status.busy": "2025-05-25T19:49:16.742049Z",
     "iopub.status.idle": "2025-05-25T19:49:16.817197Z",
     "shell.execute_reply": "2025-05-25T19:49:16.816414Z",
     "shell.execute_reply.started": "2025-05-25T19:49:16.742554Z"
    }
   },
   "outputs": [
    {
     "name": "stdout",
     "output_type": "stream",
     "text": [
      "Intercept (b0): 102.63880022907205\n",
      "Coefficients (b1...bn): [ 9.21330302e-02 -1.50880993e+00 -9.78878286e-02  6.28216515e-02\n",
      " -5.82631627e-01  5.97790423e-03 -1.63243044e-03 -1.02081690e+02\n",
      "  5.27633123e-01  7.63015400e-01  2.32593705e-01 -3.35208372e-01]\n"
     ]
    }
   ],
   "source": [
    "\n",
    "# Initialize the Linear Regression model\n",
    "model = LinearRegression()\n",
    "\n",
    "# Train (fit) the model on the training data\n",
    "model.fit(X_train, y_train)\n",
    "\n",
    "# Output the learned parameters\n",
    "print(\"Intercept (b0):\", model.intercept_)\n",
    "print(\"Coefficients (b1...bn):\", model.coef_)\n"
   ]
  },
  {
   "cell_type": "markdown",
   "id": "fa0de4ae-062f-4aaa-89cd-e924f4bc9192",
   "metadata": {},
   "source": [
    "Make Predictions on the Test Set\n",
    "\n",
    "We will be using the trained model to predict wine quality for the test set features, and store the predictions:"
   ]
  },
  {
   "cell_type": "code",
   "execution_count": 19,
   "id": "8f7387ef-2813-41c4-a3e1-d41523831154",
   "metadata": {
    "execution": {
     "iopub.execute_input": "2025-05-25T19:50:04.683050Z",
     "iopub.status.busy": "2025-05-25T19:50:04.682455Z",
     "iopub.status.idle": "2025-05-25T19:50:04.689154Z",
     "shell.execute_reply": "2025-05-25T19:50:04.688417Z",
     "shell.execute_reply.started": "2025-05-25T19:50:04.683014Z"
    }
   },
   "outputs": [
    {
     "name": "stdout",
     "output_type": "stream",
     "text": [
      "First 5 predictions: [6.69332728 5.16841868 6.29909159 5.74156707 5.40742754]\n",
      "First 5 actual quality values: [8 5 7 6 6]\n"
     ]
    }
   ],
   "source": [
    "# Use the trained model to predict on the test set\n",
    "y_pred = model.predict(X_test)\n",
    "\n",
    "# Inspect the first few predictions alongside actual values\n",
    "print(\"First 5 predictions:\", y_pred[:5])\n",
    "print(\"First 5 actual quality values:\", y_test.iloc[:5].values)\n"
   ]
  },
  {
   "cell_type": "markdown",
   "id": "da3415c8-9413-46ca-bf06-00372ca9ac13",
   "metadata": {},
   "source": [
    "Evaluating the Model  MSE and R²\n",
    "To assess the performance of the linear regression model, we will calculate the Mean Squared Error (MSE) and the R-squared (R²) score on the test set:"
   ]
  },
  {
   "cell_type": "code",
   "execution_count": 20,
   "id": "795d4dcb-20d7-4354-9e79-e77a3d2010af",
   "metadata": {
    "execution": {
     "iopub.execute_input": "2025-05-25T19:50:08.945260Z",
     "iopub.status.busy": "2025-05-25T19:50:08.944981Z",
     "iopub.status.idle": "2025-05-25T19:50:08.952089Z",
     "shell.execute_reply": "2025-05-25T19:50:08.950866Z",
     "shell.execute_reply.started": "2025-05-25T19:50:08.945241Z"
    }
   },
   "outputs": [
    {
     "name": "stdout",
     "output_type": "stream",
     "text": [
      "Mean Squared Error (MSE) on test set: 0.541\n",
      "R^2 Score on test set: 0.267\n"
     ]
    }
   ],
   "source": [
    "# Calculating Mean Squared Error and R^2 on the test data\n",
    "mse = mean_squared_error(y_test, y_pred)\n",
    "r2 = r2_score(y_test, y_pred)\n",
    "\n",
    "print(f\"Mean Squared Error (MSE) on test set: {mse:.3f}\")\n",
    "print(f\"R^2 Score on test set: {r2:.3f}\")\n"
   ]
  },
  {
   "cell_type": "markdown",
   "id": "b974b5cc-c557-4704-bd79-cea00b7a34ea",
   "metadata": {},
   "source": [
    "Mean Squared Error (MSE): 0.541\n",
    "\n",
    "R² Score: 0.267: This means the model explains about 26.7% of the variance in wine quality using linear regression.\n",
    "\n",
    "Generally, these are expected values for this dataset with a basic linear model. \n",
    "\n",
    "Wine quality is affected by many non-linear factors, so it’s common that linear regression doesn’t achieve a very high R²."
   ]
  },
  {
   "cell_type": "markdown",
   "id": "68b39829-94f8-45ad-a2fb-2a6d53ed5ec0",
   "metadata": {},
   "source": [
    "Visualizing the Results\n",
    "\n",
    "Finally, it’s advantageous to visualize the model’s predictions vs the actual values to get an understanding of how well it performed. \n",
    "Creating a scatter plot of actual quality vs predicted quality for the test set:"
   ]
  },
  {
   "cell_type": "code",
   "execution_count": 21,
   "id": "00e91ff1-b0f1-4085-8302-f63f2f409c35",
   "metadata": {
    "execution": {
     "iopub.execute_input": "2025-05-25T19:50:14.499889Z",
     "iopub.status.busy": "2025-05-25T19:50:14.499102Z",
     "iopub.status.idle": "2025-05-25T19:50:14.716073Z",
     "shell.execute_reply": "2025-05-25T19:50:14.715284Z",
     "shell.execute_reply.started": "2025-05-25T19:50:14.499860Z"
    }
   },
   "outputs": [
    {
     "data": {
      "image/png": "[encoded data removed]",
      "text/plain": [
       "<Figure size 600x600 with 1 Axes>"
      ]
     },
     "metadata": {},
     "output_type": "display_data"
    }
   ],
   "source": [
    "# Scatter plot of Actual vs Predicted quality\n",
    "plt.figure(figsize=(6,6))\n",
    "plt.scatter(y_test, y_pred, alpha=0.7, color='teal')\n",
    "plt.plot([y_test.min(), y_test.max()], [y_test.min(), y_test.max()], 'r--', lw=2)  # Diagonal line\n",
    "plt.xlabel('Actual Quality')\n",
    "plt.ylabel('Predicted Quality')\n",
    "plt.title('Actual vs Predicted Wine Quality')\n",
    "plt.show()\n"
   ]
  },
  {
   "cell_type": "markdown",
   "id": "b6ad1f40-54e1-4e6f-bb01-acc73905d482",
   "metadata": {},
   "source": [
    "The red dashed line represents perfect predictions, that is, Predicted = Actual. Most points mostly hover around the center, with slight under and over predictions.\n",
    "\n",
    "The clustered vertical bands show that wine quality is somewhat difficult to predict linearly, which is normal for this dataset."
   ]
  },
  {
   "cell_type": "markdown",
   "id": "ebaf66f1-0316-45e9-ab8b-c6e88a9d8375",
   "metadata": {},
   "source": [
    "# Part 2b: Using Container Technology in SageMaker Studio Lab\n",
    "\n",
    "We would be repeating the linear regression model using a custom Docker container. \n",
    "\n",
    "The container installs dependencies, runs `train.py`, trains the model, prints evaluation metrics, and saves the model file.\n",
    "\n",
    "Here, we would repeat the model training using a custom Docker container.\n",
    "The container:\n",
    "- Installs dependencies\n",
    "- Executes `train.py` script\n",
    "- Trains a linear regression model\n",
    "- Prints evaluation metrics\n",
    "\n"
   ]
  },
  {
   "cell_type": "code",
   "execution_count": 23,
   "id": "0df46e55-0387-4bf8-a255-5d9f058b74a5",
   "metadata": {
    "execution": {
     "iopub.execute_input": "2025-05-25T19:50:47.206597Z",
     "iopub.status.busy": "2025-05-25T19:50:47.205939Z",
     "iopub.status.idle": "2025-05-25T19:50:47.383262Z",
     "shell.execute_reply": "2025-05-25T19:50:47.382291Z",
     "shell.execute_reply.started": "2025-05-25T19:50:47.206571Z"
    }
   },
   "outputs": [
    {
     "name": "stdout",
     "output_type": "stream",
     "text": [
      "Dockerfile  requirements.txt  train.py\twinequality_combined.csv\n"
     ]
    }
   ],
   "source": [
    "!cd wine_quality_container && ls\n"
   ]
  },
  {
   "cell_type": "code",
   "execution_count": 24,
   "id": "f6ba1ff9-12c8-4b95-ab70-90f03ada6360",
   "metadata": {
    "execution": {
     "iopub.execute_input": "2025-05-25T19:50:51.053929Z",
     "iopub.status.busy": "2025-05-25T19:50:51.053614Z",
     "iopub.status.idle": "2025-05-25T19:50:51.224962Z",
     "shell.execute_reply": "2025-05-25T19:50:51.224174Z",
     "shell.execute_reply.started": "2025-05-25T19:50:51.053905Z"
    }
   },
   "outputs": [
    {
     "name": "stdout",
     "output_type": "stream",
     "text": [
      "Dockerfile  requirements.txt  train.py\twinequality_combined.csv\n"
     ]
    }
   ],
   "source": [
    "!cd wine_quality_container && ls\n"
   ]
  },
  {
   "cell_type": "code",
   "execution_count": 25,
   "id": "bdde76a9-5c0a-419d-abc0-87195911829c",
   "metadata": {
    "execution": {
     "iopub.execute_input": "2025-05-25T19:50:53.800585Z",
     "iopub.status.busy": "2025-05-25T19:50:53.799893Z",
     "iopub.status.idle": "2025-05-25T19:50:53.992629Z",
     "shell.execute_reply": "2025-05-25T19:50:53.991774Z",
     "shell.execute_reply.started": "2025-05-25T19:50:53.800553Z"
    }
   },
   "outputs": [
    {
     "name": "stdout",
     "output_type": "stream",
     "text": [
      "DEPRECATED: The legacy builder is deprecated and will be removed in a future release.\n",
      "            BuildKit is currently disabled; enable it by removing the DOCKER_BUILDKIT=0\n",
      "            environment-variable.\n",
      "\n",
      "Error response from daemon: {\"message\":\"Forbidden. Reason: [ImageBuild] 'sagemaker' is the only user allowed network input\"}\n"
     ]
    }
   ],
   "source": [
    "!cd wine_quality_container && docker build -t wine-quality-container .\n"
   ]
  },
  {
   "cell_type": "code",
   "execution_count": 27,
   "id": "d6c1d104-e7c5-4df9-a857-f07726928e8a",
   "metadata": {
    "execution": {
     "iopub.execute_input": "2025-05-25T20:23:53.166911Z",
     "iopub.status.busy": "2025-05-25T20:23:53.166276Z",
     "iopub.status.idle": "2025-05-25T20:23:53.938644Z",
     "shell.execute_reply": "2025-05-25T20:23:53.937997Z",
     "shell.execute_reply.started": "2025-05-25T20:23:53.166882Z"
    }
   },
   "outputs": [
    {
     "name": "stdout",
     "output_type": "stream",
     "text": [
      "sagemaker.config INFO - Applied value from config key = SageMaker.PythonSDK.Modules.Session.DefaultS3Bucket\n",
      "sagemaker.config INFO - Applied value from config key = SageMaker.PythonSDK.Modules.Session.DefaultS3ObjectKeyPrefix\n",
      "sagemaker.config INFO - Applied value from config key = SageMaker.PythonSDK.Modules.Session.DefaultS3Bucket\n",
      "sagemaker.config INFO - Applied value from config key = SageMaker.PythonSDK.Modules.Session.DefaultS3ObjectKeyPrefix\n"
     ]
    },
    {
     "data": {
      "text/plain": [
       "'arn:aws:iam::173534767361:role/datazone_usr_role_3rn60pdlmark15_5fzspz1btq98dl'"
      ]
     },
     "execution_count": 27,
     "metadata": {},
     "output_type": "execute_result"
    }
   ],
   "source": [
    "import sagemaker\n",
    "from sagemaker import get_execution_role\n",
    "\n",
    "sagemaker_session = sagemaker.Session()\n",
    "role = get_execution_role()\n",
    "role\n"
   ]
  },
  {
   "cell_type": "code",
   "execution_count": 29,
   "id": "7548acdb-f88d-45c1-b2bc-0edb6962f52d",
   "metadata": {
    "execution": {
     "iopub.execute_input": "2025-05-25T20:32:08.436188Z",
     "iopub.status.busy": "2025-05-25T20:32:08.435796Z",
     "iopub.status.idle": "2025-05-25T20:32:08.574504Z",
     "shell.execute_reply": "2025-05-25T20:32:08.573797Z",
     "shell.execute_reply.started": "2025-05-25T20:32:08.436163Z"
    }
   },
   "outputs": [],
   "source": [
    "bucket_name = sagemaker_session.default_bucket()  # or use your custom bucket name\n",
    "train_input = sagemaker_session.upload_data(\n",
    "    path=\"winequality_combined.csv\", \n",
    "    bucket=bucket_name, \n",
    "    key_prefix=\"data\"\n",
    ")\n"
   ]
  },
  {
   "cell_type": "code",
   "execution_count": 32,
   "id": "e5faf88d-1d0a-41fc-a8fb-177a129c5c55",
   "metadata": {
    "execution": {
     "iopub.execute_input": "2025-05-25T20:35:05.570918Z",
     "iopub.status.busy": "2025-05-25T20:35:05.570185Z",
     "iopub.status.idle": "2025-05-25T20:35:05.574659Z",
     "shell.execute_reply": "2025-05-25T20:35:05.573466Z",
     "shell.execute_reply.started": "2025-05-25T20:35:05.570890Z"
    }
   },
   "outputs": [],
   "source": [
    "script_path = \"src/wine_quality_container/train.py\"\n"
   ]
  },
  {
   "cell_type": "code",
   "execution_count": 39,
   "id": "02da9c8a-84ef-44db-af42-8fd97cfee4d4",
   "metadata": {
    "execution": {
     "iopub.execute_input": "2025-05-25T21:41:13.655364Z",
     "iopub.status.busy": "2025-05-25T21:41:13.655057Z",
     "iopub.status.idle": "2025-05-25T21:43:32.934780Z",
     "shell.execute_reply": "2025-05-25T21:43:32.934020Z",
     "shell.execute_reply.started": "2025-05-25T21:41:13.655342Z"
    }
   },
   "outputs": [
    {
     "name": "stdout",
     "output_type": "stream",
     "text": [
      "sagemaker.config INFO - Applied value from config key = SageMaker.TrainingJob.VpcConfig.Subnets\n",
      "sagemaker.config INFO - Applied value from config key = SageMaker.TrainingJob.VpcConfig.SecurityGroupIds\n",
      "2025-05-25 21:41:17 Starting - Starting the training job...\n",
      "2025-05-25 21:41:50 Downloading - Downloading input data...\n",
      "2025-05-25 21:42:15 Downloading - Downloading the training image.....\u001b[34m2025-05-25 21:43:00,723 sagemaker-containers INFO     Imported framework sagemaker_sklearn_container.training\u001b[0m\n",
      "\u001b[34m2025-05-25 21:43:00,726 sagemaker-training-toolkit INFO     No GPUs detected (normal if no gpus installed)\u001b[0m\n",
      "\u001b[34m2025-05-25 21:43:00,735 sagemaker_sklearn_container.training INFO     Invoking user training script.\u001b[0m\n",
      "\u001b[34m2025-05-25 21:43:00,989 sagemaker-training-toolkit INFO     Installing dependencies from requirements.txt:\u001b[0m\n",
      "\u001b[34m/miniconda3/bin/python -m pip install -r requirements.txt\u001b[0m\n",
      "\u001b[34mRequirement already satisfied: pandas in /miniconda3/lib/python3.7/site-packages (from -r requirements.txt (line 1)) (0.25.3)\u001b[0m\n",
      "\u001b[34mRequirement already satisfied: scikit-learn in /miniconda3/lib/python3.7/site-packages (from -r requirements.txt (line 2)) (0.20.0)\u001b[0m\n",
      "\u001b[34mCollecting joblib\n",
      "  Downloading joblib-1.3.2-py3-none-any.whl (302 kB)\n",
      "     ━━━━━━━━━━━━━━━━━━━━━━━━━━━━━━━━━━━━━━━ 302.2/302.2 kB 9.0 MB/s eta 0:00:00\u001b[0m\n",
      "\u001b[34mRequirement already satisfied: python-dateutil>=2.6.1 in /miniconda3/lib/python3.7/site-packages (from pandas->-r requirements.txt (line 1)) (2.8.2)\u001b[0m\n",
      "\u001b[34mRequirement already satisfied: numpy>=1.13.3 in /miniconda3/lib/python3.7/site-packages (from pandas->-r requirements.txt (line 1)) (1.19.5)\u001b[0m\n",
      "\u001b[34mRequirement already satisfied: pytz>=2017.2 in /miniconda3/lib/python3.7/site-packages (from pandas->-r requirements.txt (line 1)) (2022.4)\u001b[0m\n",
      "\u001b[34mRequirement already satisfied: scipy>=0.13.3 in /miniconda3/lib/python3.7/site-packages (from scikit-learn->-r requirements.txt (line 2)) (1.7.3)\u001b[0m\n",
      "\u001b[34mRequirement already satisfied: six>=1.5 in /miniconda3/lib/python3.7/site-packages (from python-dateutil>=2.6.1->pandas->-r requirements.txt (line 1)) (1.16.0)\u001b[0m\n",
      "\u001b[34mInstalling collected packages: joblib\u001b[0m\n",
      "\u001b[34mSuccessfully installed joblib-1.3.2\u001b[0m\n",
      "\u001b[34mWARNING: Running pip as the 'root' user can result in broken permissions and conflicting behaviour with the system package manager. It is recommended to use a virtual environment instead: https://pip.pypa.io/warnings/venv\u001b[0m\n",
      "\u001b[34m2025-05-25 21:43:02,203 sagemaker-training-toolkit INFO     No GPUs detected (normal if no gpus installed)\u001b[0m\n",
      "\u001b[34m2025-05-25 21:43:02,215 sagemaker-training-toolkit INFO     No GPUs detected (normal if no gpus installed)\u001b[0m\n",
      "\u001b[34m2025-05-25 21:43:02,227 sagemaker-training-toolkit INFO     No GPUs detected (normal if no gpus installed)\u001b[0m\n",
      "\u001b[34m2025-05-25 21:43:02,237 sagemaker-training-toolkit INFO     Invoking user script\u001b[0m\n",
      "\u001b[34mTraining Env:\u001b[0m\n",
      "\u001b[34m{\n",
      "    \"additional_framework_parameters\": {},\n",
      "    \"channel_input_dirs\": {\n",
      "        \"train\": \"/opt/ml/input/data/train\"\n",
      "    },\n",
      "    \"current_host\": \"algo-1\",\n",
      "    \"current_instance_group\": \"homogeneousCluster\",\n",
      "    \"current_instance_group_hosts\": [\n",
      "        \"algo-1\"\n",
      "    ],\n",
      "    \"current_instance_type\": \"ml.m5.large\",\n",
      "    \"distribution_hosts\": [],\n",
      "    \"distribution_instance_groups\": [],\n",
      "    \"framework_module\": \"sagemaker_sklearn_container.training:main\",\n",
      "    \"hosts\": [\n",
      "        \"algo-1\"\n",
      "    ],\n",
      "    \"hyperparameters\": {},\n",
      "    \"input_config_dir\": \"/opt/ml/input/config\",\n",
      "    \"input_data_config\": {\n",
      "        \"train\": {\n",
      "            \"TrainingInputMode\": \"File\",\n",
      "            \"S3DistributionType\": \"FullyReplicated\",\n",
      "            \"RecordWrapperType\": \"None\"\n",
      "        }\n",
      "    },\n",
      "    \"input_dir\": \"/opt/ml/input\",\n",
      "    \"instance_groups\": [\n",
      "        \"homogeneousCluster\"\n",
      "    ],\n",
      "    \"instance_groups_dict\": {\n",
      "        \"homogeneousCluster\": {\n",
      "            \"instance_group_name\": \"homogeneousCluster\",\n",
      "            \"instance_type\": \"ml.m5.large\",\n",
      "            \"hosts\": [\n",
      "                \"algo-1\"\n",
      "            ]\n",
      "        }\n",
      "    },\n",
      "    \"is_hetero\": false,\n",
      "    \"is_master\": true,\n",
      "    \"is_modelparallel_enabled\": null,\n",
      "    \"job_name\": \"sagemaker-scikit-learn-2025-05-25-21-41-14-947\",\n",
      "    \"log_level\": 20,\n",
      "    \"master_hostname\": \"algo-1\",\n",
      "    \"model_dir\": \"/opt/ml/model\",\n",
      "    \"module_dir\": \"s3://amazon-sagemaker-173534767361-us-east-2-d5362bfde7f6/dzd_5hpfl2h14d81d5/3rn60pdlmark15/dev/sagemaker-scikit-learn-2025-05-25-21-41-14-947/source/sourcedir.tar.gz\",\n",
      "    \"module_name\": \"train\",\n",
      "    \"network_interface_name\": \"eth0\",\n",
      "    \"num_cpus\": 2,\n",
      "    \"num_gpus\": 0,\n",
      "    \"output_data_dir\": \"/opt/ml/output/data\",\n",
      "    \"output_dir\": \"/opt/ml/output\",\n",
      "    \"output_intermediate_dir\": \"/opt/ml/output/intermediate\",\n",
      "    \"resource_config\": {\n",
      "        \"current_host\": \"algo-1\",\n",
      "        \"current_instance_type\": \"ml.m5.large\",\n",
      "        \"current_group_name\": \"homogeneousCluster\",\n",
      "        \"hosts\": [\n",
      "            \"algo-1\"\n",
      "        ],\n",
      "        \"instance_groups\": [\n",
      "            {\n",
      "                \"instance_group_name\": \"homogeneousCluster\",\n",
      "                \"instance_type\": \"ml.m5.large\",\n",
      "                \"hosts\": [\n",
      "                    \"algo-1\"\n",
      "                ]\n",
      "            }\n",
      "        ],\n",
      "        \"network_interface_name\": \"eth0\"\n",
      "    },\n",
      "    \"user_entry_point\": \"train.py\"\u001b[0m\n",
      "\u001b[34m}\u001b[0m\n",
      "\u001b[34mEnvironment variables:\u001b[0m\n",
      "\u001b[34mSM_HOSTS=[\"algo-1\"]\u001b[0m\n",
      "\u001b[34mSM_NETWORK_INTERFACE_NAME=eth0\u001b[0m\n",
      "\u001b[34mSM_HPS={}\u001b[0m\n",
      "\u001b[34mSM_USER_ENTRY_POINT=train.py\u001b[0m\n",
      "\u001b[34mSM_FRAMEWORK_PARAMS={}\u001b[0m\n",
      "\u001b[34mSM_RESOURCE_CONFIG={\"current_group_name\":\"homogeneousCluster\",\"current_host\":\"algo-1\",\"current_instance_type\":\"ml.m5.large\",\"hosts\":[\"algo-1\"],\"instance_groups\":[{\"hosts\":[\"algo-1\"],\"instance_group_name\":\"homogeneousCluster\",\"instance_type\":\"ml.m5.large\"}],\"network_interface_name\":\"eth0\"}\u001b[0m\n",
      "\u001b[34mSM_INPUT_DATA_CONFIG={\"train\":{\"RecordWrapperType\":\"None\",\"S3DistributionType\":\"FullyReplicated\",\"TrainingInputMode\":\"File\"}}\u001b[0m\n",
      "\u001b[34mSM_OUTPUT_DATA_DIR=/opt/ml/output/data\u001b[0m\n",
      "\u001b[34mSM_CHANNELS=[\"train\"]\u001b[0m\n",
      "\u001b[34mSM_CURRENT_HOST=algo-1\u001b[0m\n",
      "\u001b[34mSM_CURRENT_INSTANCE_TYPE=ml.m5.large\u001b[0m\n",
      "\u001b[34mSM_CURRENT_INSTANCE_GROUP=homogeneousCluster\u001b[0m\n",
      "\u001b[34mSM_CURRENT_INSTANCE_GROUP_HOSTS=[\"algo-1\"]\u001b[0m\n",
      "\u001b[34mSM_INSTANCE_GROUPS=[\"homogeneousCluster\"]\u001b[0m\n",
      "\u001b[34mSM_INSTANCE_GROUPS_DICT={\"homogeneousCluster\":{\"hosts\":[\"algo-1\"],\"instance_group_name\":\"homogeneousCluster\",\"instance_type\":\"ml.m5.large\"}}\u001b[0m\n",
      "\u001b[34mSM_DISTRIBUTION_INSTANCE_GROUPS=[]\u001b[0m\n",
      "\u001b[34mSM_IS_HETERO=false\u001b[0m\n",
      "\u001b[34mSM_MODULE_NAME=train\u001b[0m\n",
      "\u001b[34mSM_LOG_LEVEL=20\u001b[0m\n",
      "\u001b[34mSM_FRAMEWORK_MODULE=sagemaker_sklearn_container.training:main\u001b[0m\n",
      "\u001b[34mSM_INPUT_DIR=/opt/ml/input\u001b[0m\n",
      "\u001b[34mSM_INPUT_CONFIG_DIR=/opt/ml/input/config\u001b[0m\n",
      "\u001b[34mSM_OUTPUT_DIR=/opt/ml/output\u001b[0m\n",
      "\u001b[34mSM_NUM_CPUS=2\u001b[0m\n",
      "\u001b[34mSM_NUM_GPUS=0\u001b[0m\n",
      "\u001b[34mSM_MODEL_DIR=/opt/ml/model\u001b[0m\n",
      "\u001b[34mSM_MODULE_DIR=s3://amazon-sagemaker-173534767361-us-east-2-d5362bfde7f6/dzd_5hpfl2h14d81d5/3rn60pdlmark15/dev/sagemaker-scikit-learn-2025-05-25-21-41-14-947/source/sourcedir.tar.gz\u001b[0m\n",
      "\u001b[34mSM_TRAINING_ENV={\"additional_framework_parameters\":{},\"channel_input_dirs\":{\"train\":\"/opt/ml/input/data/train\"},\"current_host\":\"algo-1\",\"current_instance_group\":\"homogeneousCluster\",\"current_instance_group_hosts\":[\"algo-1\"],\"current_instance_type\":\"ml.m5.large\",\"distribution_hosts\":[],\"distribution_instance_groups\":[],\"framework_module\":\"sagemaker_sklearn_container.training:main\",\"hosts\":[\"algo-1\"],\"hyperparameters\":{},\"input_config_dir\":\"/opt/ml/input/config\",\"input_data_config\":{\"train\":{\"RecordWrapperType\":\"None\",\"S3DistributionType\":\"FullyReplicated\",\"TrainingInputMode\":\"File\"}},\"input_dir\":\"/opt/ml/input\",\"instance_groups\":[\"homogeneousCluster\"],\"instance_groups_dict\":{\"homogeneousCluster\":{\"hosts\":[\"algo-1\"],\"instance_group_name\":\"homogeneousCluster\",\"instance_type\":\"ml.m5.large\"}},\"is_hetero\":false,\"is_master\":true,\"is_modelparallel_enabled\":null,\"job_name\":\"sagemaker-scikit-learn-2025-05-25-21-41-14-947\",\"log_level\":20,\"master_hostname\":\"algo-1\",\"model_dir\":\"/opt/ml/model\",\"module_dir\":\"s3://amazon-sagemaker-173534767361-us-east-2-d5362bfde7f6/dzd_5hpfl2h14d81d5/3rn60pdlmark15/dev/sagemaker-scikit-learn-2025-05-25-21-41-14-947/source/sourcedir.tar.gz\",\"module_name\":\"train\",\"network_interface_name\":\"eth0\",\"num_cpus\":2,\"num_gpus\":0,\"output_data_dir\":\"/opt/ml/output/data\",\"output_dir\":\"/opt/ml/output\",\"output_intermediate_dir\":\"/opt/ml/output/intermediate\",\"resource_config\":{\"current_group_name\":\"homogeneousCluster\",\"current_host\":\"algo-1\",\"current_instance_type\":\"ml.m5.large\",\"hosts\":[\"algo-1\"],\"instance_groups\":[{\"hosts\":[\"algo-1\"],\"instance_group_name\":\"homogeneousCluster\",\"instance_type\":\"ml.m5.large\"}],\"network_interface_name\":\"eth0\"},\"user_entry_point\":\"train.py\"}\u001b[0m\n",
      "\u001b[34mSM_USER_ARGS=[]\u001b[0m\n",
      "\u001b[34mSM_OUTPUT_INTERMEDIATE_DIR=/opt/ml/output/intermediate\u001b[0m\n",
      "\u001b[34mSM_CHANNEL_TRAIN=/opt/ml/input/data/train\u001b[0m\n",
      "\u001b[34mPYTHONPATH=/opt/ml/code:/miniconda3/bin:/miniconda3/lib/python37.zip:/miniconda3/lib/python3.7:/miniconda3/lib/python3.7/lib-dynload:/miniconda3/lib/python3.7/site-packages\u001b[0m\n",
      "\u001b[34mInvoking script with the following command:\u001b[0m\n",
      "\u001b[34m/miniconda3/bin/python train.py\u001b[0m\n",
      "\u001b[34m2025-05-25 21:43:02,238 sagemaker-training-toolkit INFO     Exceptions not imported for SageMaker Debugger as it is not installed.\u001b[0m\n",
      "\u001b[34m/miniconda3/lib/python3.7/site-packages/sklearn/externals/joblib/externals/cloudpickle/cloudpickle.py:47: DeprecationWarning: the imp module is deprecated in favour of importlib; see the module's documentation for alternative uses\n",
      "  import imp\u001b[0m\n",
      "\u001b[34m/miniconda3/lib/python3.7/site-packages/sklearn/utils/validation.py:37: DeprecationWarning: distutils Version classes are deprecated. Use packaging.version instead.\n",
      "  LARGE_SPARSE_SUPPORTED = LooseVersion(scipy_version) >= '0.14.0'\u001b[0m\n",
      "\u001b[34mMean Squared Error: 0.541\u001b[0m\n",
      "\u001b[34mR² Score: 0.267\u001b[0m\n",
      "\u001b[34m2025-05-25 21:43:03,229 sagemaker-containers INFO     Reporting training SUCCESS\u001b[0m\n",
      "\n",
      "2025-05-25 21:43:19 Training - Training image download completed. Training in progress.\n",
      "2025-05-25 21:43:19 Uploading - Uploading generated training model\n",
      "2025-05-25 21:43:19 Completed - Training job completed\n",
      "Training seconds: 89\n",
      "Billable seconds: 89\n"
     ]
    }
   ],
   "source": [
    "from sagemaker.sklearn.estimator import SKLearn\n",
    "\n",
    "sklearn = SKLearn(\n",
    "    entry_point='train.py',                   # just the filename\n",
    "    source_dir='wine_quality_container',      # relative directory that contains train.py + requirements.txt\n",
    "    instance_type='ml.m5.large',              # or ml.t3.medium if available\n",
    "    framework_version='0.20.0',\n",
    "    py_version='py3',\n",
    "    role=role,\n",
    "    sagemaker_session=sagemaker_session\n",
    ")\n",
    "\n",
    "sklearn.fit({'train': train_input})\n"
   ]
  },
  {
   "cell_type": "code",
   "execution_count": 43,
   "id": "2f1c9c99-9e03-4258-abcc-9f8668fcc5a3",
   "metadata": {
    "execution": {
     "iopub.execute_input": "2025-05-25T22:06:49.263322Z",
     "iopub.status.busy": "2025-05-25T22:06:49.262572Z",
     "iopub.status.idle": "2025-05-25T22:06:49.452017Z",
     "shell.execute_reply": "2025-05-25T22:06:49.450783Z",
     "shell.execute_reply.started": "2025-05-25T22:06:49.263294Z"
    }
   },
   "outputs": [
    {
     "data": {
      "image/png": "[encoded data removed]",
      "text/plain": [
       "<Figure size 800x600 with 1 Axes>"
      ]
     },
     "metadata": {},
     "output_type": "display_data"
    }
   ],
   "source": [
    "import pandas as pd\n",
    "import matplotlib.pyplot as plt\n",
    "\n",
    "# Load the predictions CSV (ensure the correct path is set)\n",
    "pred_df = pd.read_csv(\"predictions.csv\")\n",
    "\n",
    "# Plot: Actual vs. Predicted\n",
    "plt.figure(figsize=(8, 6))\n",
    "plt.scatter(pred_df[\"Actual\"], pred_df[\"Predicted\"], alpha=0.6)\n",
    "plt.plot(\n",
    "    [pred_df[\"Actual\"].min(), pred_df[\"Actual\"].max()],\n",
    "    [pred_df[\"Actual\"].min(), pred_df[\"Actual\"].max()],\n",
    "    color='red', linestyle='--'\n",
    ")\n",
    "plt.title(\"Actual vs Predicted Values\")\n",
    "plt.xlabel(\"Actual Quality\")\n",
    "plt.ylabel(\"Predicted Quality\")\n",
    "plt.grid(True)\n",
    "plt.tight_layout()\n",
    "plt.show()\n"
   ]
  },
  {
   "cell_type": "code",
   "execution_count": null,
   "id": "6b7502a5-3271-4c66-baea-bd02bbcacad2",
   "metadata": {},
   "outputs": [],
   "source": []
  }
 ],
 "metadata": {
  "kernelspec": {
   "display_name": "Python 3 (ipykernel)",
   "language": "python",
   "name": "python3"
  },
  "language_info": {
   "codemirror_mode": {
    "name": "ipython",
    "version": 3
   },
   "file_extension": ".py",
   "mimetype": "text/x-python",
   "name": "python",
   "nbconvert_exporter": "python",
   "pygments_lexer": "ipython3",
   "version": "3.11.11"
  }
 },
 "nbformat": 4,
 "nbformat_minor": 5
}
